{
 "cells": [
  {
   "cell_type": "markdown",
   "id": "0340cb12",
   "metadata": {},
   "source": [
    "Problem Statement :\n",
    "The following data contains a compilation of all the development related courses ( 13k+ courses) which are available on Udemy's website. Create a model to predict the ratings for future courses if it contains following attributes"
   ]
  },
  {
   "cell_type": "code",
   "execution_count": 1,
   "id": "d6ea8f0e",
   "metadata": {},
   "outputs": [],
   "source": [
    "import pandas as pd\n",
    "import numpy as np\n",
    "import matplotlib.pyplot as plt\n",
    "%matplotlib inline\n",
    "\n",
    "import seaborn as sns\n",
    "\n",
    "from sklearn.preprocessing import StandardScaler\n",
    "from sklearn.model_selection import train_test_split\n",
    "\n",
    "from sklearn.linear_model import LinearRegression\n",
    "from sklearn.metrics import mean_squared_error"
   ]
  },
  {
   "cell_type": "code",
   "execution_count": 2,
   "id": "f66baa41",
   "metadata": {},
   "outputs": [],
   "source": [
    "data = pd.read_csv('udemy_output_All_Finance__Accounting_p1_p626.csv')"
   ]
  },
  {
   "cell_type": "code",
   "execution_count": 3,
   "id": "31f58565",
   "metadata": {},
   "outputs": [],
   "source": [
    "df = data.copy()"
   ]
  },
  {
   "cell_type": "code",
   "execution_count": 4,
   "id": "07f74d68",
   "metadata": {},
   "outputs": [
    {
     "data": {
      "text/html": [
       "<div>\n",
       "<style scoped>\n",
       "    .dataframe tbody tr th:only-of-type {\n",
       "        vertical-align: middle;\n",
       "    }\n",
       "\n",
       "    .dataframe tbody tr th {\n",
       "        vertical-align: top;\n",
       "    }\n",
       "\n",
       "    .dataframe thead th {\n",
       "        text-align: right;\n",
       "    }\n",
       "</style>\n",
       "<table border=\"1\" class=\"dataframe\">\n",
       "  <thead>\n",
       "    <tr style=\"text-align: right;\">\n",
       "      <th></th>\n",
       "      <th>id</th>\n",
       "      <th>title</th>\n",
       "      <th>url</th>\n",
       "      <th>is_paid</th>\n",
       "      <th>num_subscribers</th>\n",
       "      <th>avg_rating</th>\n",
       "      <th>avg_rating_recent</th>\n",
       "      <th>rating</th>\n",
       "      <th>num_reviews</th>\n",
       "      <th>is_wishlisted</th>\n",
       "      <th>num_published_lectures</th>\n",
       "      <th>num_published_practice_tests</th>\n",
       "      <th>created</th>\n",
       "      <th>published_time</th>\n",
       "      <th>discount_price__amount</th>\n",
       "      <th>discount_price__currency</th>\n",
       "      <th>discount_price__price_string</th>\n",
       "      <th>price_detail__amount</th>\n",
       "      <th>price_detail__currency</th>\n",
       "      <th>price_detail__price_string</th>\n",
       "    </tr>\n",
       "  </thead>\n",
       "  <tbody>\n",
       "    <tr>\n",
       "      <th>0</th>\n",
       "      <td>762616</td>\n",
       "      <td>The Complete SQL Bootcamp 2020: Go from Zero t...</td>\n",
       "      <td>/course/the-complete-sql-bootcamp/</td>\n",
       "      <td>True</td>\n",
       "      <td>295509</td>\n",
       "      <td>4.66019</td>\n",
       "      <td>4.67874</td>\n",
       "      <td>4.67874</td>\n",
       "      <td>78006</td>\n",
       "      <td>False</td>\n",
       "      <td>84</td>\n",
       "      <td>0</td>\n",
       "      <td>2016-02-14T22:57:48Z</td>\n",
       "      <td>2016-04-06T05:16:11Z</td>\n",
       "      <td>455.0</td>\n",
       "      <td>INR</td>\n",
       "      <td>₹455</td>\n",
       "      <td>8640.0</td>\n",
       "      <td>INR</td>\n",
       "      <td>₹8,640</td>\n",
       "    </tr>\n",
       "    <tr>\n",
       "      <th>1</th>\n",
       "      <td>937678</td>\n",
       "      <td>Tableau 2020 A-Z: Hands-On Tableau Training fo...</td>\n",
       "      <td>/course/tableau10/</td>\n",
       "      <td>True</td>\n",
       "      <td>209070</td>\n",
       "      <td>4.58956</td>\n",
       "      <td>4.60015</td>\n",
       "      <td>4.60015</td>\n",
       "      <td>54581</td>\n",
       "      <td>False</td>\n",
       "      <td>78</td>\n",
       "      <td>0</td>\n",
       "      <td>2016-08-22T12:10:18Z</td>\n",
       "      <td>2016-08-23T16:59:49Z</td>\n",
       "      <td>455.0</td>\n",
       "      <td>INR</td>\n",
       "      <td>₹455</td>\n",
       "      <td>8640.0</td>\n",
       "      <td>INR</td>\n",
       "      <td>₹8,640</td>\n",
       "    </tr>\n",
       "    <tr>\n",
       "      <th>2</th>\n",
       "      <td>1361790</td>\n",
       "      <td>PMP Exam Prep Seminar -  PMBOK Guide 6</td>\n",
       "      <td>/course/pmp-pmbok6-35-pdus/</td>\n",
       "      <td>True</td>\n",
       "      <td>155282</td>\n",
       "      <td>4.59491</td>\n",
       "      <td>4.59326</td>\n",
       "      <td>4.59326</td>\n",
       "      <td>52653</td>\n",
       "      <td>False</td>\n",
       "      <td>292</td>\n",
       "      <td>2</td>\n",
       "      <td>2017-09-26T16:32:48Z</td>\n",
       "      <td>2017-11-14T23:58:14Z</td>\n",
       "      <td>455.0</td>\n",
       "      <td>INR</td>\n",
       "      <td>₹455</td>\n",
       "      <td>8640.0</td>\n",
       "      <td>INR</td>\n",
       "      <td>₹8,640</td>\n",
       "    </tr>\n",
       "    <tr>\n",
       "      <th>3</th>\n",
       "      <td>648826</td>\n",
       "      <td>The Complete Financial Analyst Course 2020</td>\n",
       "      <td>/course/the-complete-financial-analyst-course/</td>\n",
       "      <td>True</td>\n",
       "      <td>245860</td>\n",
       "      <td>4.54407</td>\n",
       "      <td>4.53772</td>\n",
       "      <td>4.53772</td>\n",
       "      <td>46447</td>\n",
       "      <td>False</td>\n",
       "      <td>338</td>\n",
       "      <td>0</td>\n",
       "      <td>2015-10-23T13:34:35Z</td>\n",
       "      <td>2016-01-21T01:38:48Z</td>\n",
       "      <td>455.0</td>\n",
       "      <td>INR</td>\n",
       "      <td>₹455</td>\n",
       "      <td>8640.0</td>\n",
       "      <td>INR</td>\n",
       "      <td>₹8,640</td>\n",
       "    </tr>\n",
       "    <tr>\n",
       "      <th>4</th>\n",
       "      <td>637930</td>\n",
       "      <td>An Entire MBA in 1 Course:Award Winning Busine...</td>\n",
       "      <td>/course/an-entire-mba-in-1-courseaward-winning...</td>\n",
       "      <td>True</td>\n",
       "      <td>374836</td>\n",
       "      <td>4.47080</td>\n",
       "      <td>4.47173</td>\n",
       "      <td>4.47173</td>\n",
       "      <td>41630</td>\n",
       "      <td>False</td>\n",
       "      <td>83</td>\n",
       "      <td>0</td>\n",
       "      <td>2015-10-12T06:39:46Z</td>\n",
       "      <td>2016-01-11T21:39:33Z</td>\n",
       "      <td>455.0</td>\n",
       "      <td>INR</td>\n",
       "      <td>₹455</td>\n",
       "      <td>8640.0</td>\n",
       "      <td>INR</td>\n",
       "      <td>₹8,640</td>\n",
       "    </tr>\n",
       "  </tbody>\n",
       "</table>\n",
       "</div>"
      ],
      "text/plain": [
       "        id                                              title  \\\n",
       "0   762616  The Complete SQL Bootcamp 2020: Go from Zero t...   \n",
       "1   937678  Tableau 2020 A-Z: Hands-On Tableau Training fo...   \n",
       "2  1361790             PMP Exam Prep Seminar -  PMBOK Guide 6   \n",
       "3   648826         The Complete Financial Analyst Course 2020   \n",
       "4   637930  An Entire MBA in 1 Course:Award Winning Busine...   \n",
       "\n",
       "                                                 url  is_paid  \\\n",
       "0                 /course/the-complete-sql-bootcamp/     True   \n",
       "1                                 /course/tableau10/     True   \n",
       "2                        /course/pmp-pmbok6-35-pdus/     True   \n",
       "3     /course/the-complete-financial-analyst-course/     True   \n",
       "4  /course/an-entire-mba-in-1-courseaward-winning...     True   \n",
       "\n",
       "   num_subscribers  avg_rating  avg_rating_recent   rating  num_reviews  \\\n",
       "0           295509     4.66019            4.67874  4.67874        78006   \n",
       "1           209070     4.58956            4.60015  4.60015        54581   \n",
       "2           155282     4.59491            4.59326  4.59326        52653   \n",
       "3           245860     4.54407            4.53772  4.53772        46447   \n",
       "4           374836     4.47080            4.47173  4.47173        41630   \n",
       "\n",
       "   is_wishlisted  num_published_lectures  num_published_practice_tests  \\\n",
       "0          False                      84                             0   \n",
       "1          False                      78                             0   \n",
       "2          False                     292                             2   \n",
       "3          False                     338                             0   \n",
       "4          False                      83                             0   \n",
       "\n",
       "                created        published_time  discount_price__amount  \\\n",
       "0  2016-02-14T22:57:48Z  2016-04-06T05:16:11Z                   455.0   \n",
       "1  2016-08-22T12:10:18Z  2016-08-23T16:59:49Z                   455.0   \n",
       "2  2017-09-26T16:32:48Z  2017-11-14T23:58:14Z                   455.0   \n",
       "3  2015-10-23T13:34:35Z  2016-01-21T01:38:48Z                   455.0   \n",
       "4  2015-10-12T06:39:46Z  2016-01-11T21:39:33Z                   455.0   \n",
       "\n",
       "  discount_price__currency discount_price__price_string  price_detail__amount  \\\n",
       "0                      INR                         ₹455                8640.0   \n",
       "1                      INR                         ₹455                8640.0   \n",
       "2                      INR                         ₹455                8640.0   \n",
       "3                      INR                         ₹455                8640.0   \n",
       "4                      INR                         ₹455                8640.0   \n",
       "\n",
       "  price_detail__currency price_detail__price_string  \n",
       "0                    INR                     ₹8,640  \n",
       "1                    INR                     ₹8,640  \n",
       "2                    INR                     ₹8,640  \n",
       "3                    INR                     ₹8,640  \n",
       "4                    INR                     ₹8,640  "
      ]
     },
     "execution_count": 4,
     "metadata": {},
     "output_type": "execute_result"
    }
   ],
   "source": [
    "df.head()"
   ]
  },
  {
   "cell_type": "markdown",
   "id": "7145693c",
   "metadata": {},
   "source": [
    "# Preprocessing"
   ]
  },
  {
   "cell_type": "code",
   "execution_count": 5,
   "id": "0fca66fd",
   "metadata": {},
   "outputs": [
    {
     "name": "stdout",
     "output_type": "stream",
     "text": [
      "<class 'pandas.core.frame.DataFrame'>\n",
      "RangeIndex: 13608 entries, 0 to 13607\n",
      "Data columns (total 20 columns):\n",
      " #   Column                        Non-Null Count  Dtype  \n",
      "---  ------                        --------------  -----  \n",
      " 0   id                            13608 non-null  int64  \n",
      " 1   title                         13608 non-null  object \n",
      " 2   url                           13608 non-null  object \n",
      " 3   is_paid                       13608 non-null  bool   \n",
      " 4   num_subscribers               13608 non-null  int64  \n",
      " 5   avg_rating                    13608 non-null  float64\n",
      " 6   avg_rating_recent             13608 non-null  float64\n",
      " 7   rating                        13608 non-null  float64\n",
      " 8   num_reviews                   13608 non-null  int64  \n",
      " 9   is_wishlisted                 13608 non-null  bool   \n",
      " 10  num_published_lectures        13608 non-null  int64  \n",
      " 11  num_published_practice_tests  13608 non-null  int64  \n",
      " 12  created                       13608 non-null  object \n",
      " 13  published_time                13608 non-null  object \n",
      " 14  discount_price__amount        12205 non-null  float64\n",
      " 15  discount_price__currency      12205 non-null  object \n",
      " 16  discount_price__price_string  12205 non-null  object \n",
      " 17  price_detail__amount          13111 non-null  float64\n",
      " 18  price_detail__currency        13111 non-null  object \n",
      " 19  price_detail__price_string    13111 non-null  object \n",
      "dtypes: bool(2), float64(5), int64(5), object(8)\n",
      "memory usage: 1.9+ MB\n"
     ]
    }
   ],
   "source": [
    "df.info()"
   ]
  },
  {
   "cell_type": "code",
   "execution_count": 6,
   "id": "7eda12b4",
   "metadata": {},
   "outputs": [
    {
     "data": {
      "text/plain": [
       "(13608, 20)"
      ]
     },
     "execution_count": 6,
     "metadata": {},
     "output_type": "execute_result"
    }
   ],
   "source": [
    "df.shape"
   ]
  },
  {
   "cell_type": "code",
   "execution_count": 7,
   "id": "7e8b2d24",
   "metadata": {},
   "outputs": [
    {
     "data": {
      "text/plain": [
       "id                                 0\n",
       "title                              0\n",
       "url                                0\n",
       "is_paid                            0\n",
       "num_subscribers                    0\n",
       "avg_rating                         0\n",
       "avg_rating_recent                  0\n",
       "rating                             0\n",
       "num_reviews                        0\n",
       "is_wishlisted                      0\n",
       "num_published_lectures             0\n",
       "num_published_practice_tests       0\n",
       "created                            0\n",
       "published_time                     0\n",
       "discount_price__amount          1403\n",
       "discount_price__currency        1403\n",
       "discount_price__price_string    1403\n",
       "price_detail__amount             497\n",
       "price_detail__currency           497\n",
       "price_detail__price_string       497\n",
       "dtype: int64"
      ]
     },
     "execution_count": 7,
     "metadata": {},
     "output_type": "execute_result"
    }
   ],
   "source": [
    "df.isnull().sum()"
   ]
  },
  {
   "cell_type": "markdown",
   "id": "55ca824a",
   "metadata": {},
   "source": [
    "CORRElation heatmap"
   ]
  },
  {
   "cell_type": "code",
   "execution_count": 8,
   "id": "eb7021bd",
   "metadata": {},
   "outputs": [
    {
     "data": {
      "image/png": "[encoded data removed]",
      "text/plain": [
       "<Figure size 800x800 with 2 Axes>"
      ]
     },
     "metadata": {},
     "output_type": "display_data"
    }
   ],
   "source": [
    "corr = df.corr()\n",
    "plt.figure(figsize=(8,8))\n",
    "sns.heatmap(corr, annot=True, cmap='RdYlGn')\n",
    "plt.show()\n",
    "            "
   ]
  },
  {
   "cell_type": "markdown",
   "id": "9ac0357b",
   "metadata": {},
   "source": [
    "num_subscribers and num_review have high correlation. Dropping num_review"
   ]
  },
  {
   "cell_type": "markdown",
   "id": "d6e0caa5",
   "metadata": {},
   "source": [
    "rating and avg_rating correalted. dropping avg_rating"
   ]
  },
  {
   "cell_type": "markdown",
   "id": "37d95fc0",
   "metadata": {},
   "source": [
    "# Dropping unique identifiers and highly correlated features"
   ]
  },
  {
   "cell_type": "code",
   "execution_count": 9,
   "id": "669a73f7",
   "metadata": {},
   "outputs": [],
   "source": [
    "df.drop(['id', 'title', 'url', 'num_reviews', 'avg_rating'], axis=1, inplace=True)"
   ]
  },
  {
   "cell_type": "code",
   "execution_count": 10,
   "id": "737e79e8",
   "metadata": {},
   "outputs": [
    {
     "data": {
      "text/html": [
       "<div>\n",
       "<style scoped>\n",
       "    .dataframe tbody tr th:only-of-type {\n",
       "        vertical-align: middle;\n",
       "    }\n",
       "\n",
       "    .dataframe tbody tr th {\n",
       "        vertical-align: top;\n",
       "    }\n",
       "\n",
       "    .dataframe thead th {\n",
       "        text-align: right;\n",
       "    }\n",
       "</style>\n",
       "<table border=\"1\" class=\"dataframe\">\n",
       "  <thead>\n",
       "    <tr style=\"text-align: right;\">\n",
       "      <th></th>\n",
       "      <th>is_paid</th>\n",
       "      <th>num_subscribers</th>\n",
       "      <th>avg_rating_recent</th>\n",
       "      <th>rating</th>\n",
       "      <th>is_wishlisted</th>\n",
       "      <th>num_published_lectures</th>\n",
       "      <th>num_published_practice_tests</th>\n",
       "      <th>created</th>\n",
       "      <th>published_time</th>\n",
       "      <th>discount_price__amount</th>\n",
       "      <th>discount_price__currency</th>\n",
       "      <th>discount_price__price_string</th>\n",
       "      <th>price_detail__amount</th>\n",
       "      <th>price_detail__currency</th>\n",
       "      <th>price_detail__price_string</th>\n",
       "    </tr>\n",
       "  </thead>\n",
       "  <tbody>\n",
       "    <tr>\n",
       "      <th>0</th>\n",
       "      <td>True</td>\n",
       "      <td>295509</td>\n",
       "      <td>4.67874</td>\n",
       "      <td>4.67874</td>\n",
       "      <td>False</td>\n",
       "      <td>84</td>\n",
       "      <td>0</td>\n",
       "      <td>2016-02-14T22:57:48Z</td>\n",
       "      <td>2016-04-06T05:16:11Z</td>\n",
       "      <td>455.0</td>\n",
       "      <td>INR</td>\n",
       "      <td>₹455</td>\n",
       "      <td>8640.0</td>\n",
       "      <td>INR</td>\n",
       "      <td>₹8,640</td>\n",
       "    </tr>\n",
       "    <tr>\n",
       "      <th>1</th>\n",
       "      <td>True</td>\n",
       "      <td>209070</td>\n",
       "      <td>4.60015</td>\n",
       "      <td>4.60015</td>\n",
       "      <td>False</td>\n",
       "      <td>78</td>\n",
       "      <td>0</td>\n",
       "      <td>2016-08-22T12:10:18Z</td>\n",
       "      <td>2016-08-23T16:59:49Z</td>\n",
       "      <td>455.0</td>\n",
       "      <td>INR</td>\n",
       "      <td>₹455</td>\n",
       "      <td>8640.0</td>\n",
       "      <td>INR</td>\n",
       "      <td>₹8,640</td>\n",
       "    </tr>\n",
       "    <tr>\n",
       "      <th>2</th>\n",
       "      <td>True</td>\n",
       "      <td>155282</td>\n",
       "      <td>4.59326</td>\n",
       "      <td>4.59326</td>\n",
       "      <td>False</td>\n",
       "      <td>292</td>\n",
       "      <td>2</td>\n",
       "      <td>2017-09-26T16:32:48Z</td>\n",
       "      <td>2017-11-14T23:58:14Z</td>\n",
       "      <td>455.0</td>\n",
       "      <td>INR</td>\n",
       "      <td>₹455</td>\n",
       "      <td>8640.0</td>\n",
       "      <td>INR</td>\n",
       "      <td>₹8,640</td>\n",
       "    </tr>\n",
       "    <tr>\n",
       "      <th>3</th>\n",
       "      <td>True</td>\n",
       "      <td>245860</td>\n",
       "      <td>4.53772</td>\n",
       "      <td>4.53772</td>\n",
       "      <td>False</td>\n",
       "      <td>338</td>\n",
       "      <td>0</td>\n",
       "      <td>2015-10-23T13:34:35Z</td>\n",
       "      <td>2016-01-21T01:38:48Z</td>\n",
       "      <td>455.0</td>\n",
       "      <td>INR</td>\n",
       "      <td>₹455</td>\n",
       "      <td>8640.0</td>\n",
       "      <td>INR</td>\n",
       "      <td>₹8,640</td>\n",
       "    </tr>\n",
       "    <tr>\n",
       "      <th>4</th>\n",
       "      <td>True</td>\n",
       "      <td>374836</td>\n",
       "      <td>4.47173</td>\n",
       "      <td>4.47173</td>\n",
       "      <td>False</td>\n",
       "      <td>83</td>\n",
       "      <td>0</td>\n",
       "      <td>2015-10-12T06:39:46Z</td>\n",
       "      <td>2016-01-11T21:39:33Z</td>\n",
       "      <td>455.0</td>\n",
       "      <td>INR</td>\n",
       "      <td>₹455</td>\n",
       "      <td>8640.0</td>\n",
       "      <td>INR</td>\n",
       "      <td>₹8,640</td>\n",
       "    </tr>\n",
       "  </tbody>\n",
       "</table>\n",
       "</div>"
      ],
      "text/plain": [
       "   is_paid  num_subscribers  avg_rating_recent   rating  is_wishlisted  \\\n",
       "0     True           295509            4.67874  4.67874          False   \n",
       "1     True           209070            4.60015  4.60015          False   \n",
       "2     True           155282            4.59326  4.59326          False   \n",
       "3     True           245860            4.53772  4.53772          False   \n",
       "4     True           374836            4.47173  4.47173          False   \n",
       "\n",
       "   num_published_lectures  num_published_practice_tests               created  \\\n",
       "0                      84                             0  2016-02-14T22:57:48Z   \n",
       "1                      78                             0  2016-08-22T12:10:18Z   \n",
       "2                     292                             2  2017-09-26T16:32:48Z   \n",
       "3                     338                             0  2015-10-23T13:34:35Z   \n",
       "4                      83                             0  2015-10-12T06:39:46Z   \n",
       "\n",
       "         published_time  discount_price__amount discount_price__currency  \\\n",
       "0  2016-04-06T05:16:11Z                   455.0                      INR   \n",
       "1  2016-08-23T16:59:49Z                   455.0                      INR   \n",
       "2  2017-11-14T23:58:14Z                   455.0                      INR   \n",
       "3  2016-01-21T01:38:48Z                   455.0                      INR   \n",
       "4  2016-01-11T21:39:33Z                   455.0                      INR   \n",
       "\n",
       "  discount_price__price_string  price_detail__amount price_detail__currency  \\\n",
       "0                         ₹455                8640.0                    INR   \n",
       "1                         ₹455                8640.0                    INR   \n",
       "2                         ₹455                8640.0                    INR   \n",
       "3                         ₹455                8640.0                    INR   \n",
       "4                         ₹455                8640.0                    INR   \n",
       "\n",
       "  price_detail__price_string  \n",
       "0                     ₹8,640  \n",
       "1                     ₹8,640  \n",
       "2                     ₹8,640  \n",
       "3                     ₹8,640  \n",
       "4                     ₹8,640  "
      ]
     },
     "execution_count": 10,
     "metadata": {},
     "output_type": "execute_result"
    }
   ],
   "source": [
    "df.head()"
   ]
  },
  {
   "cell_type": "code",
   "execution_count": 11,
   "id": "8c5b5176",
   "metadata": {},
   "outputs": [
    {
     "data": {
      "text/plain": [
       "is_paid                            bool\n",
       "num_subscribers                   int64\n",
       "avg_rating_recent               float64\n",
       "rating                          float64\n",
       "is_wishlisted                      bool\n",
       "num_published_lectures            int64\n",
       "num_published_practice_tests      int64\n",
       "created                          object\n",
       "published_time                   object\n",
       "discount_price__amount          float64\n",
       "discount_price__currency         object\n",
       "discount_price__price_string     object\n",
       "price_detail__amount            float64\n",
       "price_detail__currency           object\n",
       "price_detail__price_string       object\n",
       "dtype: object"
      ]
     },
     "execution_count": 11,
     "metadata": {},
     "output_type": "execute_result"
    }
   ],
   "source": [
    "df.dtypes"
   ]
  },
  {
   "cell_type": "code",
   "execution_count": 12,
   "id": "e03148cd",
   "metadata": {},
   "outputs": [
    {
     "data": {
      "text/html": [
       "<div>\n",
       "<style scoped>\n",
       "    .dataframe tbody tr th:only-of-type {\n",
       "        vertical-align: middle;\n",
       "    }\n",
       "\n",
       "    .dataframe tbody tr th {\n",
       "        vertical-align: top;\n",
       "    }\n",
       "\n",
       "    .dataframe thead th {\n",
       "        text-align: right;\n",
       "    }\n",
       "</style>\n",
       "<table border=\"1\" class=\"dataframe\">\n",
       "  <thead>\n",
       "    <tr style=\"text-align: right;\">\n",
       "      <th></th>\n",
       "      <th>created</th>\n",
       "      <th>published_time</th>\n",
       "      <th>discount_price__currency</th>\n",
       "      <th>discount_price__price_string</th>\n",
       "      <th>price_detail__currency</th>\n",
       "      <th>price_detail__price_string</th>\n",
       "    </tr>\n",
       "  </thead>\n",
       "  <tbody>\n",
       "    <tr>\n",
       "      <th>0</th>\n",
       "      <td>2016-02-14T22:57:48Z</td>\n",
       "      <td>2016-04-06T05:16:11Z</td>\n",
       "      <td>INR</td>\n",
       "      <td>₹455</td>\n",
       "      <td>INR</td>\n",
       "      <td>₹8,640</td>\n",
       "    </tr>\n",
       "    <tr>\n",
       "      <th>1</th>\n",
       "      <td>2016-08-22T12:10:18Z</td>\n",
       "      <td>2016-08-23T16:59:49Z</td>\n",
       "      <td>INR</td>\n",
       "      <td>₹455</td>\n",
       "      <td>INR</td>\n",
       "      <td>₹8,640</td>\n",
       "    </tr>\n",
       "    <tr>\n",
       "      <th>2</th>\n",
       "      <td>2017-09-26T16:32:48Z</td>\n",
       "      <td>2017-11-14T23:58:14Z</td>\n",
       "      <td>INR</td>\n",
       "      <td>₹455</td>\n",
       "      <td>INR</td>\n",
       "      <td>₹8,640</td>\n",
       "    </tr>\n",
       "    <tr>\n",
       "      <th>3</th>\n",
       "      <td>2015-10-23T13:34:35Z</td>\n",
       "      <td>2016-01-21T01:38:48Z</td>\n",
       "      <td>INR</td>\n",
       "      <td>₹455</td>\n",
       "      <td>INR</td>\n",
       "      <td>₹8,640</td>\n",
       "    </tr>\n",
       "    <tr>\n",
       "      <th>4</th>\n",
       "      <td>2015-10-12T06:39:46Z</td>\n",
       "      <td>2016-01-11T21:39:33Z</td>\n",
       "      <td>INR</td>\n",
       "      <td>₹455</td>\n",
       "      <td>INR</td>\n",
       "      <td>₹8,640</td>\n",
       "    </tr>\n",
       "    <tr>\n",
       "      <th>...</th>\n",
       "      <td>...</td>\n",
       "      <td>...</td>\n",
       "      <td>...</td>\n",
       "      <td>...</td>\n",
       "      <td>...</td>\n",
       "      <td>...</td>\n",
       "    </tr>\n",
       "    <tr>\n",
       "      <th>13603</th>\n",
       "      <td>2020-04-15T10:20:17Z</td>\n",
       "      <td>2020-04-23T02:06:55Z</td>\n",
       "      <td>NaN</td>\n",
       "      <td>NaN</td>\n",
       "      <td>NaN</td>\n",
       "      <td>NaN</td>\n",
       "    </tr>\n",
       "    <tr>\n",
       "      <th>13604</th>\n",
       "      <td>2020-09-01T17:57:15Z</td>\n",
       "      <td>2020-09-03T15:26:47Z</td>\n",
       "      <td>NaN</td>\n",
       "      <td>NaN</td>\n",
       "      <td>NaN</td>\n",
       "      <td>NaN</td>\n",
       "    </tr>\n",
       "    <tr>\n",
       "      <th>13605</th>\n",
       "      <td>2020-07-27T02:29:18Z</td>\n",
       "      <td>2020-07-31T12:14:40Z</td>\n",
       "      <td>NaN</td>\n",
       "      <td>NaN</td>\n",
       "      <td>NaN</td>\n",
       "      <td>NaN</td>\n",
       "    </tr>\n",
       "    <tr>\n",
       "      <th>13606</th>\n",
       "      <td>2020-06-07T01:29:53Z</td>\n",
       "      <td>2020-07-15T10:35:38Z</td>\n",
       "      <td>NaN</td>\n",
       "      <td>NaN</td>\n",
       "      <td>NaN</td>\n",
       "      <td>NaN</td>\n",
       "    </tr>\n",
       "    <tr>\n",
       "      <th>13607</th>\n",
       "      <td>2020-03-30T19:10:58Z</td>\n",
       "      <td>2020-04-02T16:33:32Z</td>\n",
       "      <td>NaN</td>\n",
       "      <td>NaN</td>\n",
       "      <td>NaN</td>\n",
       "      <td>NaN</td>\n",
       "    </tr>\n",
       "  </tbody>\n",
       "</table>\n",
       "<p>13608 rows × 6 columns</p>\n",
       "</div>"
      ],
      "text/plain": [
       "                    created        published_time discount_price__currency  \\\n",
       "0      2016-02-14T22:57:48Z  2016-04-06T05:16:11Z                      INR   \n",
       "1      2016-08-22T12:10:18Z  2016-08-23T16:59:49Z                      INR   \n",
       "2      2017-09-26T16:32:48Z  2017-11-14T23:58:14Z                      INR   \n",
       "3      2015-10-23T13:34:35Z  2016-01-21T01:38:48Z                      INR   \n",
       "4      2015-10-12T06:39:46Z  2016-01-11T21:39:33Z                      INR   \n",
       "...                     ...                   ...                      ...   \n",
       "13603  2020-04-15T10:20:17Z  2020-04-23T02:06:55Z                      NaN   \n",
       "13604  2020-09-01T17:57:15Z  2020-09-03T15:26:47Z                      NaN   \n",
       "13605  2020-07-27T02:29:18Z  2020-07-31T12:14:40Z                      NaN   \n",
       "13606  2020-06-07T01:29:53Z  2020-07-15T10:35:38Z                      NaN   \n",
       "13607  2020-03-30T19:10:58Z  2020-04-02T16:33:32Z                      NaN   \n",
       "\n",
       "      discount_price__price_string price_detail__currency  \\\n",
       "0                             ₹455                    INR   \n",
       "1                             ₹455                    INR   \n",
       "2                             ₹455                    INR   \n",
       "3                             ₹455                    INR   \n",
       "4                             ₹455                    INR   \n",
       "...                            ...                    ...   \n",
       "13603                          NaN                    NaN   \n",
       "13604                          NaN                    NaN   \n",
       "13605                          NaN                    NaN   \n",
       "13606                          NaN                    NaN   \n",
       "13607                          NaN                    NaN   \n",
       "\n",
       "      price_detail__price_string  \n",
       "0                         ₹8,640  \n",
       "1                         ₹8,640  \n",
       "2                         ₹8,640  \n",
       "3                         ₹8,640  \n",
       "4                         ₹8,640  \n",
       "...                          ...  \n",
       "13603                        NaN  \n",
       "13604                        NaN  \n",
       "13605                        NaN  \n",
       "13606                        NaN  \n",
       "13607                        NaN  \n",
       "\n",
       "[13608 rows x 6 columns]"
      ]
     },
     "execution_count": 12,
     "metadata": {},
     "output_type": "execute_result"
    }
   ],
   "source": [
    "df.select_dtypes(include=['object'])"
   ]
  },
  {
   "cell_type": "code",
   "execution_count": 13,
   "id": "a9ce0609",
   "metadata": {},
   "outputs": [
    {
     "data": {
      "text/plain": [
       "array(['INR', nan], dtype=object)"
      ]
     },
     "execution_count": 13,
     "metadata": {},
     "output_type": "execute_result"
    }
   ],
   "source": [
    "df['discount_price__currency'].unique()"
   ]
  },
  {
   "cell_type": "code",
   "execution_count": 14,
   "id": "6978a1d6",
   "metadata": {},
   "outputs": [
    {
     "data": {
      "text/plain": [
       "array(['INR', nan], dtype=object)"
      ]
     },
     "execution_count": 14,
     "metadata": {},
     "output_type": "execute_result"
    }
   ],
   "source": [
    "df['price_detail__currency'].unique()"
   ]
  },
  {
   "cell_type": "markdown",
   "id": "8772ae53",
   "metadata": {},
   "source": [
    "Both have 2 categories with 1 nan value.. so its better to drop both features"
   ]
  },
  {
   "cell_type": "code",
   "execution_count": 15,
   "id": "f664bb4c",
   "metadata": {},
   "outputs": [
    {
     "data": {
      "text/html": [
       "<div>\n",
       "<style scoped>\n",
       "    .dataframe tbody tr th:only-of-type {\n",
       "        vertical-align: middle;\n",
       "    }\n",
       "\n",
       "    .dataframe tbody tr th {\n",
       "        vertical-align: top;\n",
       "    }\n",
       "\n",
       "    .dataframe thead th {\n",
       "        text-align: right;\n",
       "    }\n",
       "</style>\n",
       "<table border=\"1\" class=\"dataframe\">\n",
       "  <thead>\n",
       "    <tr style=\"text-align: right;\">\n",
       "      <th></th>\n",
       "      <th>is_paid</th>\n",
       "      <th>num_subscribers</th>\n",
       "      <th>avg_rating_recent</th>\n",
       "      <th>rating</th>\n",
       "      <th>is_wishlisted</th>\n",
       "      <th>num_published_lectures</th>\n",
       "      <th>num_published_practice_tests</th>\n",
       "      <th>created</th>\n",
       "      <th>published_time</th>\n",
       "      <th>discount_price__amount</th>\n",
       "      <th>discount_price__price_string</th>\n",
       "      <th>price_detail__amount</th>\n",
       "      <th>price_detail__price_string</th>\n",
       "    </tr>\n",
       "  </thead>\n",
       "  <tbody>\n",
       "    <tr>\n",
       "      <th>0</th>\n",
       "      <td>True</td>\n",
       "      <td>295509</td>\n",
       "      <td>4.67874</td>\n",
       "      <td>4.67874</td>\n",
       "      <td>False</td>\n",
       "      <td>84</td>\n",
       "      <td>0</td>\n",
       "      <td>2016-02-14T22:57:48Z</td>\n",
       "      <td>2016-04-06T05:16:11Z</td>\n",
       "      <td>455.0</td>\n",
       "      <td>₹455</td>\n",
       "      <td>8640.0</td>\n",
       "      <td>₹8,640</td>\n",
       "    </tr>\n",
       "    <tr>\n",
       "      <th>1</th>\n",
       "      <td>True</td>\n",
       "      <td>209070</td>\n",
       "      <td>4.60015</td>\n",
       "      <td>4.60015</td>\n",
       "      <td>False</td>\n",
       "      <td>78</td>\n",
       "      <td>0</td>\n",
       "      <td>2016-08-22T12:10:18Z</td>\n",
       "      <td>2016-08-23T16:59:49Z</td>\n",
       "      <td>455.0</td>\n",
       "      <td>₹455</td>\n",
       "      <td>8640.0</td>\n",
       "      <td>₹8,640</td>\n",
       "    </tr>\n",
       "    <tr>\n",
       "      <th>2</th>\n",
       "      <td>True</td>\n",
       "      <td>155282</td>\n",
       "      <td>4.59326</td>\n",
       "      <td>4.59326</td>\n",
       "      <td>False</td>\n",
       "      <td>292</td>\n",
       "      <td>2</td>\n",
       "      <td>2017-09-26T16:32:48Z</td>\n",
       "      <td>2017-11-14T23:58:14Z</td>\n",
       "      <td>455.0</td>\n",
       "      <td>₹455</td>\n",
       "      <td>8640.0</td>\n",
       "      <td>₹8,640</td>\n",
       "    </tr>\n",
       "    <tr>\n",
       "      <th>3</th>\n",
       "      <td>True</td>\n",
       "      <td>245860</td>\n",
       "      <td>4.53772</td>\n",
       "      <td>4.53772</td>\n",
       "      <td>False</td>\n",
       "      <td>338</td>\n",
       "      <td>0</td>\n",
       "      <td>2015-10-23T13:34:35Z</td>\n",
       "      <td>2016-01-21T01:38:48Z</td>\n",
       "      <td>455.0</td>\n",
       "      <td>₹455</td>\n",
       "      <td>8640.0</td>\n",
       "      <td>₹8,640</td>\n",
       "    </tr>\n",
       "    <tr>\n",
       "      <th>4</th>\n",
       "      <td>True</td>\n",
       "      <td>374836</td>\n",
       "      <td>4.47173</td>\n",
       "      <td>4.47173</td>\n",
       "      <td>False</td>\n",
       "      <td>83</td>\n",
       "      <td>0</td>\n",
       "      <td>2015-10-12T06:39:46Z</td>\n",
       "      <td>2016-01-11T21:39:33Z</td>\n",
       "      <td>455.0</td>\n",
       "      <td>₹455</td>\n",
       "      <td>8640.0</td>\n",
       "      <td>₹8,640</td>\n",
       "    </tr>\n",
       "  </tbody>\n",
       "</table>\n",
       "</div>"
      ],
      "text/plain": [
       "   is_paid  num_subscribers  avg_rating_recent   rating  is_wishlisted  \\\n",
       "0     True           295509            4.67874  4.67874          False   \n",
       "1     True           209070            4.60015  4.60015          False   \n",
       "2     True           155282            4.59326  4.59326          False   \n",
       "3     True           245860            4.53772  4.53772          False   \n",
       "4     True           374836            4.47173  4.47173          False   \n",
       "\n",
       "   num_published_lectures  num_published_practice_tests               created  \\\n",
       "0                      84                             0  2016-02-14T22:57:48Z   \n",
       "1                      78                             0  2016-08-22T12:10:18Z   \n",
       "2                     292                             2  2017-09-26T16:32:48Z   \n",
       "3                     338                             0  2015-10-23T13:34:35Z   \n",
       "4                      83                             0  2015-10-12T06:39:46Z   \n",
       "\n",
       "         published_time  discount_price__amount discount_price__price_string  \\\n",
       "0  2016-04-06T05:16:11Z                   455.0                         ₹455   \n",
       "1  2016-08-23T16:59:49Z                   455.0                         ₹455   \n",
       "2  2017-11-14T23:58:14Z                   455.0                         ₹455   \n",
       "3  2016-01-21T01:38:48Z                   455.0                         ₹455   \n",
       "4  2016-01-11T21:39:33Z                   455.0                         ₹455   \n",
       "\n",
       "   price_detail__amount price_detail__price_string  \n",
       "0                8640.0                     ₹8,640  \n",
       "1                8640.0                     ₹8,640  \n",
       "2                8640.0                     ₹8,640  \n",
       "3                8640.0                     ₹8,640  \n",
       "4                8640.0                     ₹8,640  "
      ]
     },
     "execution_count": 15,
     "metadata": {},
     "output_type": "execute_result"
    }
   ],
   "source": [
    "df.drop(['discount_price__currency', 'price_detail__currency'], axis=1, inplace=True)\n",
    "df.head()"
   ]
  },
  {
   "cell_type": "code",
   "execution_count": 16,
   "id": "85670260",
   "metadata": {},
   "outputs": [
    {
     "name": "stdout",
     "output_type": "stream",
     "text": [
      "<class 'pandas.core.frame.DataFrame'>\n",
      "RangeIndex: 13608 entries, 0 to 13607\n",
      "Data columns (total 13 columns):\n",
      " #   Column                        Non-Null Count  Dtype  \n",
      "---  ------                        --------------  -----  \n",
      " 0   is_paid                       13608 non-null  bool   \n",
      " 1   num_subscribers               13608 non-null  int64  \n",
      " 2   avg_rating_recent             13608 non-null  float64\n",
      " 3   rating                        13608 non-null  float64\n",
      " 4   is_wishlisted                 13608 non-null  bool   \n",
      " 5   num_published_lectures        13608 non-null  int64  \n",
      " 6   num_published_practice_tests  13608 non-null  int64  \n",
      " 7   created                       13608 non-null  object \n",
      " 8   published_time                13608 non-null  object \n",
      " 9   discount_price__amount        12205 non-null  float64\n",
      " 10  discount_price__price_string  12205 non-null  object \n",
      " 11  price_detail__amount          13111 non-null  float64\n",
      " 12  price_detail__price_string    13111 non-null  object \n",
      "dtypes: bool(2), float64(4), int64(3), object(4)\n",
      "memory usage: 1.2+ MB\n"
     ]
    }
   ],
   "source": [
    "df.info()"
   ]
  },
  {
   "cell_type": "code",
   "execution_count": 17,
   "id": "b66fa612",
   "metadata": {},
   "outputs": [
    {
     "data": {
      "text/plain": [
       "array([ True, False])"
      ]
     },
     "execution_count": 17,
     "metadata": {},
     "output_type": "execute_result"
    }
   ],
   "source": [
    "df['is_paid'].unique()"
   ]
  },
  {
   "cell_type": "markdown",
   "id": "c3183776",
   "metadata": {},
   "source": [
    "Check for null values"
   ]
  },
  {
   "cell_type": "code",
   "execution_count": 18,
   "id": "d52b0d91",
   "metadata": {},
   "outputs": [
    {
     "data": {
      "text/plain": [
       "is_paid                            0\n",
       "num_subscribers                    0\n",
       "avg_rating_recent                  0\n",
       "rating                             0\n",
       "is_wishlisted                      0\n",
       "num_published_lectures             0\n",
       "num_published_practice_tests       0\n",
       "created                            0\n",
       "published_time                     0\n",
       "discount_price__amount          1403\n",
       "discount_price__price_string    1403\n",
       "price_detail__amount             497\n",
       "price_detail__price_string       497\n",
       "dtype: int64"
      ]
     },
     "execution_count": 18,
     "metadata": {},
     "output_type": "execute_result"
    }
   ],
   "source": [
    "df.isnull().sum()"
   ]
  },
  {
   "cell_type": "markdown",
   "id": "ccc1b193",
   "metadata": {},
   "source": [
    "1. discountPriceAmount and discountPricePriceString has similar values\n",
    "2. priceDetailsAmount and priceDetailsPriceString has similar values\n",
    "\n",
    "Hence dropping 1 of them"
   ]
  },
  {
   "cell_type": "code",
   "execution_count": 19,
   "id": "2705f436",
   "metadata": {},
   "outputs": [
    {
     "data": {
      "text/html": [
       "<div>\n",
       "<style scoped>\n",
       "    .dataframe tbody tr th:only-of-type {\n",
       "        vertical-align: middle;\n",
       "    }\n",
       "\n",
       "    .dataframe tbody tr th {\n",
       "        vertical-align: top;\n",
       "    }\n",
       "\n",
       "    .dataframe thead th {\n",
       "        text-align: right;\n",
       "    }\n",
       "</style>\n",
       "<table border=\"1\" class=\"dataframe\">\n",
       "  <thead>\n",
       "    <tr style=\"text-align: right;\">\n",
       "      <th></th>\n",
       "      <th>is_paid</th>\n",
       "      <th>num_subscribers</th>\n",
       "      <th>avg_rating_recent</th>\n",
       "      <th>rating</th>\n",
       "      <th>is_wishlisted</th>\n",
       "      <th>num_published_lectures</th>\n",
       "      <th>num_published_practice_tests</th>\n",
       "      <th>created</th>\n",
       "      <th>published_time</th>\n",
       "      <th>discount_price__amount</th>\n",
       "      <th>price_detail__amount</th>\n",
       "    </tr>\n",
       "  </thead>\n",
       "  <tbody>\n",
       "    <tr>\n",
       "      <th>0</th>\n",
       "      <td>True</td>\n",
       "      <td>295509</td>\n",
       "      <td>4.67874</td>\n",
       "      <td>4.67874</td>\n",
       "      <td>False</td>\n",
       "      <td>84</td>\n",
       "      <td>0</td>\n",
       "      <td>2016-02-14T22:57:48Z</td>\n",
       "      <td>2016-04-06T05:16:11Z</td>\n",
       "      <td>455.0</td>\n",
       "      <td>8640.0</td>\n",
       "    </tr>\n",
       "    <tr>\n",
       "      <th>1</th>\n",
       "      <td>True</td>\n",
       "      <td>209070</td>\n",
       "      <td>4.60015</td>\n",
       "      <td>4.60015</td>\n",
       "      <td>False</td>\n",
       "      <td>78</td>\n",
       "      <td>0</td>\n",
       "      <td>2016-08-22T12:10:18Z</td>\n",
       "      <td>2016-08-23T16:59:49Z</td>\n",
       "      <td>455.0</td>\n",
       "      <td>8640.0</td>\n",
       "    </tr>\n",
       "    <tr>\n",
       "      <th>2</th>\n",
       "      <td>True</td>\n",
       "      <td>155282</td>\n",
       "      <td>4.59326</td>\n",
       "      <td>4.59326</td>\n",
       "      <td>False</td>\n",
       "      <td>292</td>\n",
       "      <td>2</td>\n",
       "      <td>2017-09-26T16:32:48Z</td>\n",
       "      <td>2017-11-14T23:58:14Z</td>\n",
       "      <td>455.0</td>\n",
       "      <td>8640.0</td>\n",
       "    </tr>\n",
       "    <tr>\n",
       "      <th>3</th>\n",
       "      <td>True</td>\n",
       "      <td>245860</td>\n",
       "      <td>4.53772</td>\n",
       "      <td>4.53772</td>\n",
       "      <td>False</td>\n",
       "      <td>338</td>\n",
       "      <td>0</td>\n",
       "      <td>2015-10-23T13:34:35Z</td>\n",
       "      <td>2016-01-21T01:38:48Z</td>\n",
       "      <td>455.0</td>\n",
       "      <td>8640.0</td>\n",
       "    </tr>\n",
       "    <tr>\n",
       "      <th>4</th>\n",
       "      <td>True</td>\n",
       "      <td>374836</td>\n",
       "      <td>4.47173</td>\n",
       "      <td>4.47173</td>\n",
       "      <td>False</td>\n",
       "      <td>83</td>\n",
       "      <td>0</td>\n",
       "      <td>2015-10-12T06:39:46Z</td>\n",
       "      <td>2016-01-11T21:39:33Z</td>\n",
       "      <td>455.0</td>\n",
       "      <td>8640.0</td>\n",
       "    </tr>\n",
       "  </tbody>\n",
       "</table>\n",
       "</div>"
      ],
      "text/plain": [
       "   is_paid  num_subscribers  avg_rating_recent   rating  is_wishlisted  \\\n",
       "0     True           295509            4.67874  4.67874          False   \n",
       "1     True           209070            4.60015  4.60015          False   \n",
       "2     True           155282            4.59326  4.59326          False   \n",
       "3     True           245860            4.53772  4.53772          False   \n",
       "4     True           374836            4.47173  4.47173          False   \n",
       "\n",
       "   num_published_lectures  num_published_practice_tests               created  \\\n",
       "0                      84                             0  2016-02-14T22:57:48Z   \n",
       "1                      78                             0  2016-08-22T12:10:18Z   \n",
       "2                     292                             2  2017-09-26T16:32:48Z   \n",
       "3                     338                             0  2015-10-23T13:34:35Z   \n",
       "4                      83                             0  2015-10-12T06:39:46Z   \n",
       "\n",
       "         published_time  discount_price__amount  price_detail__amount  \n",
       "0  2016-04-06T05:16:11Z                   455.0                8640.0  \n",
       "1  2016-08-23T16:59:49Z                   455.0                8640.0  \n",
       "2  2017-11-14T23:58:14Z                   455.0                8640.0  \n",
       "3  2016-01-21T01:38:48Z                   455.0                8640.0  \n",
       "4  2016-01-11T21:39:33Z                   455.0                8640.0  "
      ]
     },
     "execution_count": 19,
     "metadata": {},
     "output_type": "execute_result"
    }
   ],
   "source": [
    "df.drop(['discount_price__price_string', 'price_detail__price_string'], axis=1, inplace=True)\n",
    "df.head()"
   ]
  },
  {
   "cell_type": "code",
   "execution_count": 20,
   "id": "993715e0",
   "metadata": {},
   "outputs": [
    {
     "data": {
      "text/plain": [
       "is_paid                            0\n",
       "num_subscribers                    0\n",
       "avg_rating_recent                  0\n",
       "rating                             0\n",
       "is_wishlisted                      0\n",
       "num_published_lectures             0\n",
       "num_published_practice_tests       0\n",
       "created                            0\n",
       "published_time                     0\n",
       "discount_price__amount          1403\n",
       "price_detail__amount             497\n",
       "dtype: int64"
      ]
     },
     "execution_count": 20,
     "metadata": {},
     "output_type": "execute_result"
    }
   ],
   "source": [
    "df.isnull().sum()"
   ]
  },
  {
   "cell_type": "markdown",
   "id": "049abcee",
   "metadata": {},
   "source": [
    "Replacing nan values with respective mean values"
   ]
  },
  {
   "cell_type": "code",
   "execution_count": 21,
   "id": "1b3e1841",
   "metadata": {},
   "outputs": [],
   "source": [
    "df['discount_price__amount'] = df['discount_price__amount'].fillna(df['discount_price__amount'].mean())\n",
    "df['price_detail__amount'] = df['price_detail__amount'].fillna(df['price_detail__amount'].mean())"
   ]
  },
  {
   "cell_type": "code",
   "execution_count": 22,
   "id": "fa6aa874",
   "metadata": {},
   "outputs": [
    {
     "data": {
      "text/plain": [
       "is_paid                         0\n",
       "num_subscribers                 0\n",
       "avg_rating_recent               0\n",
       "rating                          0\n",
       "is_wishlisted                   0\n",
       "num_published_lectures          0\n",
       "num_published_practice_tests    0\n",
       "created                         0\n",
       "published_time                  0\n",
       "discount_price__amount          0\n",
       "price_detail__amount            0\n",
       "dtype: int64"
      ]
     },
     "execution_count": 22,
     "metadata": {},
     "output_type": "execute_result"
    }
   ],
   "source": [
    "df.isnull().sum()"
   ]
  },
  {
   "cell_type": "markdown",
   "id": "431ae56d",
   "metadata": {},
   "source": [
    "# Null values have been replaced with mean.\n",
    "## Handling created and published time now"
   ]
  },
  {
   "cell_type": "code",
   "execution_count": 23,
   "id": "990aba24",
   "metadata": {},
   "outputs": [],
   "source": [
    "df['created_year'] = df['created'].apply( lambda x : x[0:4]).astype(np.int64)\n",
    "df['created_month'] = df['created'].apply(lambda x : x[5:7]).astype(np.int64)\n",
    "\n",
    "df['published_year'] = df['published_time'].apply( lambda x : x[0:4]).astype(np.int64)\n",
    "df['published_month'] = df['published_time'].apply(lambda x : x[5:7]).astype(np.int64)"
   ]
  },
  {
   "cell_type": "code",
   "execution_count": 24,
   "id": "7c671d9c",
   "metadata": {},
   "outputs": [],
   "source": [
    "\n",
    "df.drop(['created', 'published_time'], axis=1, inplace=True)"
   ]
  },
  {
   "cell_type": "code",
   "execution_count": 25,
   "id": "6f5fbe16",
   "metadata": {},
   "outputs": [
    {
     "data": {
      "text/html": [
       "<div>\n",
       "<style scoped>\n",
       "    .dataframe tbody tr th:only-of-type {\n",
       "        vertical-align: middle;\n",
       "    }\n",
       "\n",
       "    .dataframe tbody tr th {\n",
       "        vertical-align: top;\n",
       "    }\n",
       "\n",
       "    .dataframe thead th {\n",
       "        text-align: right;\n",
       "    }\n",
       "</style>\n",
       "<table border=\"1\" class=\"dataframe\">\n",
       "  <thead>\n",
       "    <tr style=\"text-align: right;\">\n",
       "      <th></th>\n",
       "      <th>is_paid</th>\n",
       "      <th>num_subscribers</th>\n",
       "      <th>avg_rating_recent</th>\n",
       "      <th>rating</th>\n",
       "      <th>is_wishlisted</th>\n",
       "      <th>num_published_lectures</th>\n",
       "      <th>num_published_practice_tests</th>\n",
       "      <th>discount_price__amount</th>\n",
       "      <th>price_detail__amount</th>\n",
       "      <th>created_year</th>\n",
       "      <th>created_month</th>\n",
       "      <th>published_year</th>\n",
       "      <th>published_month</th>\n",
       "    </tr>\n",
       "  </thead>\n",
       "  <tbody>\n",
       "    <tr>\n",
       "      <th>0</th>\n",
       "      <td>True</td>\n",
       "      <td>295509</td>\n",
       "      <td>4.67874</td>\n",
       "      <td>4.67874</td>\n",
       "      <td>False</td>\n",
       "      <td>84</td>\n",
       "      <td>0</td>\n",
       "      <td>455.0</td>\n",
       "      <td>8640.0</td>\n",
       "      <td>2016</td>\n",
       "      <td>2</td>\n",
       "      <td>2016</td>\n",
       "      <td>4</td>\n",
       "    </tr>\n",
       "    <tr>\n",
       "      <th>1</th>\n",
       "      <td>True</td>\n",
       "      <td>209070</td>\n",
       "      <td>4.60015</td>\n",
       "      <td>4.60015</td>\n",
       "      <td>False</td>\n",
       "      <td>78</td>\n",
       "      <td>0</td>\n",
       "      <td>455.0</td>\n",
       "      <td>8640.0</td>\n",
       "      <td>2016</td>\n",
       "      <td>8</td>\n",
       "      <td>2016</td>\n",
       "      <td>8</td>\n",
       "    </tr>\n",
       "    <tr>\n",
       "      <th>2</th>\n",
       "      <td>True</td>\n",
       "      <td>155282</td>\n",
       "      <td>4.59326</td>\n",
       "      <td>4.59326</td>\n",
       "      <td>False</td>\n",
       "      <td>292</td>\n",
       "      <td>2</td>\n",
       "      <td>455.0</td>\n",
       "      <td>8640.0</td>\n",
       "      <td>2017</td>\n",
       "      <td>9</td>\n",
       "      <td>2017</td>\n",
       "      <td>11</td>\n",
       "    </tr>\n",
       "    <tr>\n",
       "      <th>3</th>\n",
       "      <td>True</td>\n",
       "      <td>245860</td>\n",
       "      <td>4.53772</td>\n",
       "      <td>4.53772</td>\n",
       "      <td>False</td>\n",
       "      <td>338</td>\n",
       "      <td>0</td>\n",
       "      <td>455.0</td>\n",
       "      <td>8640.0</td>\n",
       "      <td>2015</td>\n",
       "      <td>10</td>\n",
       "      <td>2016</td>\n",
       "      <td>1</td>\n",
       "    </tr>\n",
       "    <tr>\n",
       "      <th>4</th>\n",
       "      <td>True</td>\n",
       "      <td>374836</td>\n",
       "      <td>4.47173</td>\n",
       "      <td>4.47173</td>\n",
       "      <td>False</td>\n",
       "      <td>83</td>\n",
       "      <td>0</td>\n",
       "      <td>455.0</td>\n",
       "      <td>8640.0</td>\n",
       "      <td>2015</td>\n",
       "      <td>10</td>\n",
       "      <td>2016</td>\n",
       "      <td>1</td>\n",
       "    </tr>\n",
       "  </tbody>\n",
       "</table>\n",
       "</div>"
      ],
      "text/plain": [
       "   is_paid  num_subscribers  avg_rating_recent   rating  is_wishlisted  \\\n",
       "0     True           295509            4.67874  4.67874          False   \n",
       "1     True           209070            4.60015  4.60015          False   \n",
       "2     True           155282            4.59326  4.59326          False   \n",
       "3     True           245860            4.53772  4.53772          False   \n",
       "4     True           374836            4.47173  4.47173          False   \n",
       "\n",
       "   num_published_lectures  num_published_practice_tests  \\\n",
       "0                      84                             0   \n",
       "1                      78                             0   \n",
       "2                     292                             2   \n",
       "3                     338                             0   \n",
       "4                      83                             0   \n",
       "\n",
       "   discount_price__amount  price_detail__amount  created_year  created_month  \\\n",
       "0                   455.0                8640.0          2016              2   \n",
       "1                   455.0                8640.0          2016              8   \n",
       "2                   455.0                8640.0          2017              9   \n",
       "3                   455.0                8640.0          2015             10   \n",
       "4                   455.0                8640.0          2015             10   \n",
       "\n",
       "   published_year  published_month  \n",
       "0            2016                4  \n",
       "1            2016                8  \n",
       "2            2017               11  \n",
       "3            2016                1  \n",
       "4            2016                1  "
      ]
     },
     "execution_count": 25,
     "metadata": {},
     "output_type": "execute_result"
    }
   ],
   "source": [
    "df.head()"
   ]
  },
  {
   "cell_type": "code",
   "execution_count": 26,
   "id": "51a32ddd",
   "metadata": {},
   "outputs": [
    {
     "name": "stdout",
     "output_type": "stream",
     "text": [
      "<class 'pandas.core.frame.DataFrame'>\n",
      "RangeIndex: 13608 entries, 0 to 13607\n",
      "Data columns (total 13 columns):\n",
      " #   Column                        Non-Null Count  Dtype  \n",
      "---  ------                        --------------  -----  \n",
      " 0   is_paid                       13608 non-null  bool   \n",
      " 1   num_subscribers               13608 non-null  int64  \n",
      " 2   avg_rating_recent             13608 non-null  float64\n",
      " 3   rating                        13608 non-null  float64\n",
      " 4   is_wishlisted                 13608 non-null  bool   \n",
      " 5   num_published_lectures        13608 non-null  int64  \n",
      " 6   num_published_practice_tests  13608 non-null  int64  \n",
      " 7   discount_price__amount        13608 non-null  float64\n",
      " 8   price_detail__amount          13608 non-null  float64\n",
      " 9   created_year                  13608 non-null  int64  \n",
      " 10  created_month                 13608 non-null  int64  \n",
      " 11  published_year                13608 non-null  int64  \n",
      " 12  published_month               13608 non-null  int64  \n",
      "dtypes: bool(2), float64(4), int64(7)\n",
      "memory usage: 1.2 MB\n"
     ]
    }
   ],
   "source": [
    "df.info()"
   ]
  },
  {
   "cell_type": "markdown",
   "id": "232aed5d",
   "metadata": {},
   "source": [
    "# Converting bool values of is_paid and is_wishlisted into int using numpy"
   ]
  },
  {
   "cell_type": "code",
   "execution_count": 27,
   "id": "bdd08327",
   "metadata": {},
   "outputs": [],
   "source": [
    "\n",
    "df['is_paid'] = df['is_paid'].astype(np.int64)\n",
    "df['is_wishlisted'] = df['is_wishlisted'].astype(np.int64)"
   ]
  },
  {
   "cell_type": "code",
   "execution_count": 28,
   "id": "bc992373",
   "metadata": {},
   "outputs": [
    {
     "name": "stdout",
     "output_type": "stream",
     "text": [
      "<class 'pandas.core.frame.DataFrame'>\n",
      "RangeIndex: 13608 entries, 0 to 13607\n",
      "Data columns (total 13 columns):\n",
      " #   Column                        Non-Null Count  Dtype  \n",
      "---  ------                        --------------  -----  \n",
      " 0   is_paid                       13608 non-null  int64  \n",
      " 1   num_subscribers               13608 non-null  int64  \n",
      " 2   avg_rating_recent             13608 non-null  float64\n",
      " 3   rating                        13608 non-null  float64\n",
      " 4   is_wishlisted                 13608 non-null  int64  \n",
      " 5   num_published_lectures        13608 non-null  int64  \n",
      " 6   num_published_practice_tests  13608 non-null  int64  \n",
      " 7   discount_price__amount        13608 non-null  float64\n",
      " 8   price_detail__amount          13608 non-null  float64\n",
      " 9   created_year                  13608 non-null  int64  \n",
      " 10  created_month                 13608 non-null  int64  \n",
      " 11  published_year                13608 non-null  int64  \n",
      " 12  published_month               13608 non-null  int64  \n",
      "dtypes: float64(4), int64(9)\n",
      "memory usage: 1.3 MB\n"
     ]
    }
   ],
   "source": [
    "df.info()"
   ]
  },
  {
   "cell_type": "code",
   "execution_count": 29,
   "id": "d8a70b08",
   "metadata": {},
   "outputs": [
    {
     "data": {
      "text/plain": [
       "0"
      ]
     },
     "execution_count": 29,
     "metadata": {},
     "output_type": "execute_result"
    }
   ],
   "source": [
    "sum(df.dtypes == 'object')"
   ]
  },
  {
   "cell_type": "markdown",
   "id": "1d1c8698",
   "metadata": {},
   "source": [
    "All Dtypes of object types are handeled"
   ]
  },
  {
   "cell_type": "markdown",
   "id": "8a2af31e",
   "metadata": {},
   "source": [
    "# Outliers "
   ]
  },
  {
   "cell_type": "code",
   "execution_count": 30,
   "id": "ef44c0e8",
   "metadata": {},
   "outputs": [
    {
     "data": {
      "image/png": "[encoded data removed]",
      "text/plain": [
       "<Figure size 2000x1000 with 1 Axes>"
      ]
     },
     "metadata": {},
     "output_type": "display_data"
    }
   ],
   "source": [
    "plt.figure(figsize=(20,10))\n",
    "\n",
    "df.boxplot()\n",
    "plt.show()"
   ]
  },
  {
   "cell_type": "code",
   "execution_count": 31,
   "id": "58fb7def",
   "metadata": {},
   "outputs": [
    {
     "data": {
      "image/png": "[encoded data removed]",
      "text/plain": [
       "<Figure size 2000x800 with 1 Axes>"
      ]
     },
     "metadata": {},
     "output_type": "display_data"
    }
   ],
   "source": [
    "plt.figure(figsize=(20, 8))\n",
    "\n",
    "df['num_subscribers'].hist(bins=50)\n",
    "plt.show()"
   ]
  },
  {
   "cell_type": "code",
   "execution_count": 32,
   "id": "bcca6d0a",
   "metadata": {},
   "outputs": [
    {
     "data": {
      "image/png": "[encoded data removed]",
      "text/plain": [
       "<Figure size 2000x800 with 1 Axes>"
      ]
     },
     "metadata": {},
     "output_type": "display_data"
    }
   ],
   "source": [
    "plt.figure(figsize=(20, 8))\n",
    "\n",
    "df['discount_price__amount'].hist(bins=50)\n",
    "plt.show()"
   ]
  },
  {
   "cell_type": "code",
   "execution_count": 33,
   "id": "0b76b03c",
   "metadata": {},
   "outputs": [
    {
     "data": {
      "image/png": "[encoded data removed]",
      "text/plain": [
       "<Figure size 2000x800 with 1 Axes>"
      ]
     },
     "metadata": {},
     "output_type": "display_data"
    }
   ],
   "source": [
    "\n",
    "plt.figure(figsize=(20, 8))\n",
    "\n",
    "df['num_published_lectures'].hist(bins=50)\n",
    "plt.show()"
   ]
  },
  {
   "cell_type": "markdown",
   "id": "e2550a48",
   "metadata": {},
   "source": [
    "Features with outliers :\n",
    "1) num_subscribers\n",
    "\n",
    "2) discount_price__amount\n",
    "\n",
    "3) num_published_lectures"
   ]
  },
  {
   "cell_type": "code",
   "execution_count": 34,
   "id": "50d00493",
   "metadata": {},
   "outputs": [],
   "source": [
    "def iqr_outlier(df, column):\n",
    "    q1 = df[column].quantile(0.25)\n",
    "    q3 = df[column].quantile(0.75)\n",
    "    iqr = q3 - q1\n",
    "    \n",
    "    lower_boundary = q1 - 1.5 *q1\n",
    "    upper_boundary = q3 + 1.5 * q3\n",
    "    \n",
    "    df.loc[df[column] >= upper_boundary, column] = upper_boundary\n",
    "    df.loc[df[column] <= lower_boundary, column] = lower_boundary"
   ]
  },
  {
   "cell_type": "code",
   "execution_count": 35,
   "id": "b30b4989",
   "metadata": {},
   "outputs": [],
   "source": [
    "iqr_outlier(df, 'num_subscribers')"
   ]
  },
  {
   "cell_type": "code",
   "execution_count": 36,
   "id": "ad8cef78",
   "metadata": {},
   "outputs": [
    {
     "data": {
      "image/png": "[encoded data removed]",
      "text/plain": [
       "<Figure size 2000x800 with 1 Axes>"
      ]
     },
     "metadata": {},
     "output_type": "display_data"
    }
   ],
   "source": [
    "plt.figure(figsize=(20,8))\n",
    "df['num_subscribers'].hist(bins=50)\n",
    "plt.show()"
   ]
  },
  {
   "cell_type": "code",
   "execution_count": 37,
   "id": "a168bf1e",
   "metadata": {},
   "outputs": [],
   "source": [
    "iqr_outlier(df, 'discount_price__amount')"
   ]
  },
  {
   "cell_type": "code",
   "execution_count": 38,
   "id": "cdb9b529",
   "metadata": {},
   "outputs": [
    {
     "data": {
      "image/png": "[encoded data removed]",
      "text/plain": [
       "<Figure size 2000x800 with 1 Axes>"
      ]
     },
     "metadata": {},
     "output_type": "display_data"
    }
   ],
   "source": [
    "plt.figure(figsize=(20,8))\n",
    "df['discount_price__amount'].hist(bins=50)\n",
    "plt.show()"
   ]
  },
  {
   "cell_type": "code",
   "execution_count": 39,
   "id": "363f8aa3",
   "metadata": {},
   "outputs": [],
   "source": [
    "iqr_outlier(df, 'num_published_lectures')\n"
   ]
  },
  {
   "cell_type": "code",
   "execution_count": 40,
   "id": "433bb310",
   "metadata": {},
   "outputs": [
    {
     "data": {
      "image/png": "[encoded data removed]",
      "text/plain": [
       "<Figure size 2000x800 with 1 Axes>"
      ]
     },
     "metadata": {},
     "output_type": "display_data"
    }
   ],
   "source": [
    "plt.figure(figsize=(20,8))\n",
    "df['num_published_lectures'].hist(bins=50)\n",
    "plt.show()"
   ]
  },
  {
   "cell_type": "code",
   "execution_count": 41,
   "id": "45dbd3e8",
   "metadata": {},
   "outputs": [
    {
     "data": {
      "image/png": "[encoded data removed]",
      "text/plain": [
       "<Figure size 2500x800 with 1 Axes>"
      ]
     },
     "metadata": {},
     "output_type": "display_data"
    }
   ],
   "source": [
    "\n",
    "plt.figure(figsize=(25, 8))\n",
    "\n",
    "df.boxplot()\n",
    "plt.show()"
   ]
  },
  {
   "cell_type": "markdown",
   "id": "2b6ce342",
   "metadata": {},
   "source": [
    "# Train test split"
   ]
  },
  {
   "cell_type": "code",
   "execution_count": 42,
   "id": "6f6658bb",
   "metadata": {},
   "outputs": [],
   "source": [
    "X = df.copy()"
   ]
  },
  {
   "cell_type": "code",
   "execution_count": 43,
   "id": "9ea45783",
   "metadata": {},
   "outputs": [
    {
     "data": {
      "text/html": [
       "<div>\n",
       "<style scoped>\n",
       "    .dataframe tbody tr th:only-of-type {\n",
       "        vertical-align: middle;\n",
       "    }\n",
       "\n",
       "    .dataframe tbody tr th {\n",
       "        vertical-align: top;\n",
       "    }\n",
       "\n",
       "    .dataframe thead th {\n",
       "        text-align: right;\n",
       "    }\n",
       "</style>\n",
       "<table border=\"1\" class=\"dataframe\">\n",
       "  <thead>\n",
       "    <tr style=\"text-align: right;\">\n",
       "      <th></th>\n",
       "      <th>is_paid</th>\n",
       "      <th>num_subscribers</th>\n",
       "      <th>avg_rating_recent</th>\n",
       "      <th>is_wishlisted</th>\n",
       "      <th>num_published_lectures</th>\n",
       "      <th>num_published_practice_tests</th>\n",
       "      <th>discount_price__amount</th>\n",
       "      <th>price_detail__amount</th>\n",
       "      <th>created_year</th>\n",
       "      <th>created_month</th>\n",
       "      <th>published_year</th>\n",
       "      <th>published_month</th>\n",
       "    </tr>\n",
       "  </thead>\n",
       "  <tbody>\n",
       "    <tr>\n",
       "      <th>0</th>\n",
       "      <td>1</td>\n",
       "      <td>5698.75</td>\n",
       "      <td>4.67874</td>\n",
       "      <td>0</td>\n",
       "      <td>84.0</td>\n",
       "      <td>0</td>\n",
       "      <td>455.0</td>\n",
       "      <td>8640.0</td>\n",
       "      <td>2016</td>\n",
       "      <td>2</td>\n",
       "      <td>2016</td>\n",
       "      <td>4</td>\n",
       "    </tr>\n",
       "    <tr>\n",
       "      <th>1</th>\n",
       "      <td>1</td>\n",
       "      <td>5698.75</td>\n",
       "      <td>4.60015</td>\n",
       "      <td>0</td>\n",
       "      <td>78.0</td>\n",
       "      <td>0</td>\n",
       "      <td>455.0</td>\n",
       "      <td>8640.0</td>\n",
       "      <td>2016</td>\n",
       "      <td>8</td>\n",
       "      <td>2016</td>\n",
       "      <td>8</td>\n",
       "    </tr>\n",
       "    <tr>\n",
       "      <th>2</th>\n",
       "      <td>1</td>\n",
       "      <td>5698.75</td>\n",
       "      <td>4.59326</td>\n",
       "      <td>0</td>\n",
       "      <td>92.5</td>\n",
       "      <td>2</td>\n",
       "      <td>455.0</td>\n",
       "      <td>8640.0</td>\n",
       "      <td>2017</td>\n",
       "      <td>9</td>\n",
       "      <td>2017</td>\n",
       "      <td>11</td>\n",
       "    </tr>\n",
       "    <tr>\n",
       "      <th>3</th>\n",
       "      <td>1</td>\n",
       "      <td>5698.75</td>\n",
       "      <td>4.53772</td>\n",
       "      <td>0</td>\n",
       "      <td>92.5</td>\n",
       "      <td>0</td>\n",
       "      <td>455.0</td>\n",
       "      <td>8640.0</td>\n",
       "      <td>2015</td>\n",
       "      <td>10</td>\n",
       "      <td>2016</td>\n",
       "      <td>1</td>\n",
       "    </tr>\n",
       "    <tr>\n",
       "      <th>4</th>\n",
       "      <td>1</td>\n",
       "      <td>5698.75</td>\n",
       "      <td>4.47173</td>\n",
       "      <td>0</td>\n",
       "      <td>83.0</td>\n",
       "      <td>0</td>\n",
       "      <td>455.0</td>\n",
       "      <td>8640.0</td>\n",
       "      <td>2015</td>\n",
       "      <td>10</td>\n",
       "      <td>2016</td>\n",
       "      <td>1</td>\n",
       "    </tr>\n",
       "  </tbody>\n",
       "</table>\n",
       "</div>"
      ],
      "text/plain": [
       "   is_paid  num_subscribers  avg_rating_recent  is_wishlisted  \\\n",
       "0        1          5698.75            4.67874              0   \n",
       "1        1          5698.75            4.60015              0   \n",
       "2        1          5698.75            4.59326              0   \n",
       "3        1          5698.75            4.53772              0   \n",
       "4        1          5698.75            4.47173              0   \n",
       "\n",
       "   num_published_lectures  num_published_practice_tests  \\\n",
       "0                    84.0                             0   \n",
       "1                    78.0                             0   \n",
       "2                    92.5                             2   \n",
       "3                    92.5                             0   \n",
       "4                    83.0                             0   \n",
       "\n",
       "   discount_price__amount  price_detail__amount  created_year  created_month  \\\n",
       "0                   455.0                8640.0          2016              2   \n",
       "1                   455.0                8640.0          2016              8   \n",
       "2                   455.0                8640.0          2017              9   \n",
       "3                   455.0                8640.0          2015             10   \n",
       "4                   455.0                8640.0          2015             10   \n",
       "\n",
       "   published_year  published_month  \n",
       "0            2016                4  \n",
       "1            2016                8  \n",
       "2            2017               11  \n",
       "3            2016                1  \n",
       "4            2016                1  "
      ]
     },
     "execution_count": 43,
     "metadata": {},
     "output_type": "execute_result"
    }
   ],
   "source": [
    "X.drop(['rating'], axis=1, inplace=True)\n",
    "X.head()"
   ]
  },
  {
   "cell_type": "code",
   "execution_count": 44,
   "id": "66605b96",
   "metadata": {},
   "outputs": [
    {
     "data": {
      "text/plain": [
       "0    4.67874\n",
       "1    4.60015\n",
       "2    4.59326\n",
       "3    4.53772\n",
       "4    4.47173\n",
       "Name: rating, dtype: float64"
      ]
     },
     "execution_count": 44,
     "metadata": {},
     "output_type": "execute_result"
    }
   ],
   "source": [
    "y = df['rating']\n",
    "y.head()"
   ]
  },
  {
   "cell_type": "code",
   "execution_count": 45,
   "id": "3fed1e19",
   "metadata": {},
   "outputs": [],
   "source": [
    "X_train, X_test, y_train, y_test = train_test_split(X, y, test_size=0.33, random_state=42)"
   ]
  },
  {
   "cell_type": "markdown",
   "id": "8a8e94cd",
   "metadata": {},
   "source": [
    "# Feature Scaling : Standardizing"
   ]
  },
  {
   "cell_type": "code",
   "execution_count": 46,
   "id": "55b3508b",
   "metadata": {},
   "outputs": [],
   "source": [
    "sc = StandardScaler()"
   ]
  },
  {
   "cell_type": "code",
   "execution_count": 47,
   "id": "e75e8304",
   "metadata": {},
   "outputs": [],
   "source": [
    "X_train = sc.fit_transform(X_train)\n",
    "X_test = sc.fit_transform(X_test)"
   ]
  },
  {
   "cell_type": "code",
   "execution_count": 48,
   "id": "bc8d2bff",
   "metadata": {},
   "outputs": [],
   "source": [
    "#Standardized training dataset"
   ]
  },
  {
   "cell_type": "code",
   "execution_count": 49,
   "id": "8bdddd73",
   "metadata": {},
   "outputs": [
    {
     "data": {
      "text/html": [
       "<div>\n",
       "<style scoped>\n",
       "    .dataframe tbody tr th:only-of-type {\n",
       "        vertical-align: middle;\n",
       "    }\n",
       "\n",
       "    .dataframe tbody tr th {\n",
       "        vertical-align: top;\n",
       "    }\n",
       "\n",
       "    .dataframe thead th {\n",
       "        text-align: right;\n",
       "    }\n",
       "</style>\n",
       "<table border=\"1\" class=\"dataframe\">\n",
       "  <thead>\n",
       "    <tr style=\"text-align: right;\">\n",
       "      <th></th>\n",
       "      <th>is_paid</th>\n",
       "      <th>num_subscribers</th>\n",
       "      <th>avg_rating_recent</th>\n",
       "      <th>is_wishlisted</th>\n",
       "      <th>num_published_lectures</th>\n",
       "      <th>num_published_practice_tests</th>\n",
       "      <th>discount_price__amount</th>\n",
       "      <th>price_detail__amount</th>\n",
       "      <th>created_year</th>\n",
       "      <th>created_month</th>\n",
       "      <th>published_year</th>\n",
       "      <th>published_month</th>\n",
       "    </tr>\n",
       "  </thead>\n",
       "  <tbody>\n",
       "    <tr>\n",
       "      <th>0</th>\n",
       "      <td>0.190725</td>\n",
       "      <td>-0.771875</td>\n",
       "      <td>-1.283361</td>\n",
       "      <td>0.0</td>\n",
       "      <td>-0.799923</td>\n",
       "      <td>-0.174798</td>\n",
       "      <td>-0.20967</td>\n",
       "      <td>-0.896401</td>\n",
       "      <td>1.270802</td>\n",
       "      <td>-0.967484</td>\n",
       "      <td>1.222923</td>\n",
       "      <td>-0.988510</td>\n",
       "    </tr>\n",
       "    <tr>\n",
       "      <th>1</th>\n",
       "      <td>0.190725</td>\n",
       "      <td>0.264999</td>\n",
       "      <td>0.610046</td>\n",
       "      <td>0.0</td>\n",
       "      <td>-0.230054</td>\n",
       "      <td>-0.174798</td>\n",
       "      <td>-0.20967</td>\n",
       "      <td>1.303051</td>\n",
       "      <td>-0.222034</td>\n",
       "      <td>1.096010</td>\n",
       "      <td>0.717580</td>\n",
       "      <td>-1.287117</td>\n",
       "    </tr>\n",
       "    <tr>\n",
       "      <th>2</th>\n",
       "      <td>0.190725</td>\n",
       "      <td>-0.761116</td>\n",
       "      <td>-0.062968</td>\n",
       "      <td>0.0</td>\n",
       "      <td>-0.843759</td>\n",
       "      <td>-0.174798</td>\n",
       "      <td>-0.20967</td>\n",
       "      <td>-0.372722</td>\n",
       "      <td>1.270802</td>\n",
       "      <td>-0.672699</td>\n",
       "      <td>1.222923</td>\n",
       "      <td>-0.391297</td>\n",
       "    </tr>\n",
       "    <tr>\n",
       "      <th>3</th>\n",
       "      <td>0.190725</td>\n",
       "      <td>-0.773924</td>\n",
       "      <td>0.754981</td>\n",
       "      <td>0.0</td>\n",
       "      <td>1.654896</td>\n",
       "      <td>-0.174798</td>\n",
       "      <td>-0.20967</td>\n",
       "      <td>-0.686929</td>\n",
       "      <td>1.270802</td>\n",
       "      <td>-0.672699</td>\n",
       "      <td>1.222923</td>\n",
       "      <td>-0.391297</td>\n",
       "    </tr>\n",
       "    <tr>\n",
       "      <th>4</th>\n",
       "      <td>0.190725</td>\n",
       "      <td>-0.320548</td>\n",
       "      <td>0.500787</td>\n",
       "      <td>0.0</td>\n",
       "      <td>-0.361562</td>\n",
       "      <td>-0.174798</td>\n",
       "      <td>-0.20967</td>\n",
       "      <td>-0.686929</td>\n",
       "      <td>-1.714870</td>\n",
       "      <td>0.211655</td>\n",
       "      <td>-1.809137</td>\n",
       "      <td>0.504523</td>\n",
       "    </tr>\n",
       "  </tbody>\n",
       "</table>\n",
       "</div>"
      ],
      "text/plain": [
       "    is_paid  num_subscribers  avg_rating_recent  is_wishlisted  \\\n",
       "0  0.190725        -0.771875          -1.283361            0.0   \n",
       "1  0.190725         0.264999           0.610046            0.0   \n",
       "2  0.190725        -0.761116          -0.062968            0.0   \n",
       "3  0.190725        -0.773924           0.754981            0.0   \n",
       "4  0.190725        -0.320548           0.500787            0.0   \n",
       "\n",
       "   num_published_lectures  num_published_practice_tests  \\\n",
       "0               -0.799923                     -0.174798   \n",
       "1               -0.230054                     -0.174798   \n",
       "2               -0.843759                     -0.174798   \n",
       "3                1.654896                     -0.174798   \n",
       "4               -0.361562                     -0.174798   \n",
       "\n",
       "   discount_price__amount  price_detail__amount  created_year  created_month  \\\n",
       "0                -0.20967             -0.896401      1.270802      -0.967484   \n",
       "1                -0.20967              1.303051     -0.222034       1.096010   \n",
       "2                -0.20967             -0.372722      1.270802      -0.672699   \n",
       "3                -0.20967             -0.686929      1.270802      -0.672699   \n",
       "4                -0.20967             -0.686929     -1.714870       0.211655   \n",
       "\n",
       "   published_year  published_month  \n",
       "0        1.222923        -0.988510  \n",
       "1        0.717580        -1.287117  \n",
       "2        1.222923        -0.391297  \n",
       "3        1.222923        -0.391297  \n",
       "4       -1.809137         0.504523  "
      ]
     },
     "execution_count": 49,
     "metadata": {},
     "output_type": "execute_result"
    }
   ],
   "source": [
    "X_train = pd.DataFrame(X_train, columns=X.columns)\n",
    "X_train.head()"
   ]
  },
  {
   "cell_type": "code",
   "execution_count": 50,
   "id": "1db111e7",
   "metadata": {},
   "outputs": [
    {
     "data": {
      "text/html": [
       "<div>\n",
       "<style scoped>\n",
       "    .dataframe tbody tr th:only-of-type {\n",
       "        vertical-align: middle;\n",
       "    }\n",
       "\n",
       "    .dataframe tbody tr th {\n",
       "        vertical-align: top;\n",
       "    }\n",
       "\n",
       "    .dataframe thead th {\n",
       "        text-align: right;\n",
       "    }\n",
       "</style>\n",
       "<table border=\"1\" class=\"dataframe\">\n",
       "  <thead>\n",
       "    <tr style=\"text-align: right;\">\n",
       "      <th></th>\n",
       "      <th>is_paid</th>\n",
       "      <th>num_subscribers</th>\n",
       "      <th>avg_rating_recent</th>\n",
       "      <th>is_wishlisted</th>\n",
       "      <th>num_published_lectures</th>\n",
       "      <th>num_published_practice_tests</th>\n",
       "      <th>discount_price__amount</th>\n",
       "      <th>price_detail__amount</th>\n",
       "      <th>created_year</th>\n",
       "      <th>created_month</th>\n",
       "      <th>published_year</th>\n",
       "      <th>published_month</th>\n",
       "    </tr>\n",
       "  </thead>\n",
       "  <tbody>\n",
       "    <tr>\n",
       "      <th>0</th>\n",
       "      <td>0.20196</td>\n",
       "      <td>-0.742630</td>\n",
       "      <td>-0.582506</td>\n",
       "      <td>0.0</td>\n",
       "      <td>-0.769323</td>\n",
       "      <td>-0.182328</td>\n",
       "      <td>-0.221270</td>\n",
       "      <td>-1.098188</td>\n",
       "      <td>-0.208315</td>\n",
       "      <td>-0.667326</td>\n",
       "      <td>-0.281808</td>\n",
       "      <td>-0.696501</td>\n",
       "    </tr>\n",
       "    <tr>\n",
       "      <th>1</th>\n",
       "      <td>0.20196</td>\n",
       "      <td>-0.728415</td>\n",
       "      <td>0.271842</td>\n",
       "      <td>0.0</td>\n",
       "      <td>-0.769323</td>\n",
       "      <td>-0.182328</td>\n",
       "      <td>0.169821</td>\n",
       "      <td>2.686100</td>\n",
       "      <td>-0.208315</td>\n",
       "      <td>0.818967</td>\n",
       "      <td>-0.281808</td>\n",
       "      <td>0.801289</td>\n",
       "    </tr>\n",
       "    <tr>\n",
       "      <th>2</th>\n",
       "      <td>0.20196</td>\n",
       "      <td>1.525135</td>\n",
       "      <td>0.493086</td>\n",
       "      <td>0.0</td>\n",
       "      <td>-0.339646</td>\n",
       "      <td>-0.182328</td>\n",
       "      <td>-0.090718</td>\n",
       "      <td>0.058122</td>\n",
       "      <td>-0.703835</td>\n",
       "      <td>1.710744</td>\n",
       "      <td>-0.281808</td>\n",
       "      <td>-1.595175</td>\n",
       "    </tr>\n",
       "    <tr>\n",
       "      <th>3</th>\n",
       "      <td>0.20196</td>\n",
       "      <td>0.331094</td>\n",
       "      <td>0.710034</td>\n",
       "      <td>0.0</td>\n",
       "      <td>-0.855258</td>\n",
       "      <td>-0.182328</td>\n",
       "      <td>-0.221270</td>\n",
       "      <td>-0.467473</td>\n",
       "      <td>0.782725</td>\n",
       "      <td>0.818967</td>\n",
       "      <td>0.725034</td>\n",
       "      <td>1.100847</td>\n",
       "    </tr>\n",
       "    <tr>\n",
       "      <th>4</th>\n",
       "      <td>0.20196</td>\n",
       "      <td>-0.362385</td>\n",
       "      <td>0.761750</td>\n",
       "      <td>0.0</td>\n",
       "      <td>-0.511517</td>\n",
       "      <td>-0.182328</td>\n",
       "      <td>-0.221270</td>\n",
       "      <td>-0.993069</td>\n",
       "      <td>-1.694875</td>\n",
       "      <td>-0.667326</td>\n",
       "      <td>-1.792070</td>\n",
       "      <td>-0.396943</td>\n",
       "    </tr>\n",
       "  </tbody>\n",
       "</table>\n",
       "</div>"
      ],
      "text/plain": [
       "   is_paid  num_subscribers  avg_rating_recent  is_wishlisted  \\\n",
       "0  0.20196        -0.742630          -0.582506            0.0   \n",
       "1  0.20196        -0.728415           0.271842            0.0   \n",
       "2  0.20196         1.525135           0.493086            0.0   \n",
       "3  0.20196         0.331094           0.710034            0.0   \n",
       "4  0.20196        -0.362385           0.761750            0.0   \n",
       "\n",
       "   num_published_lectures  num_published_practice_tests  \\\n",
       "0               -0.769323                     -0.182328   \n",
       "1               -0.769323                     -0.182328   \n",
       "2               -0.339646                     -0.182328   \n",
       "3               -0.855258                     -0.182328   \n",
       "4               -0.511517                     -0.182328   \n",
       "\n",
       "   discount_price__amount  price_detail__amount  created_year  created_month  \\\n",
       "0               -0.221270             -1.098188     -0.208315      -0.667326   \n",
       "1                0.169821              2.686100     -0.208315       0.818967   \n",
       "2               -0.090718              0.058122     -0.703835       1.710744   \n",
       "3               -0.221270             -0.467473      0.782725       0.818967   \n",
       "4               -0.221270             -0.993069     -1.694875      -0.667326   \n",
       "\n",
       "   published_year  published_month  \n",
       "0       -0.281808        -0.696501  \n",
       "1       -0.281808         0.801289  \n",
       "2       -0.281808        -1.595175  \n",
       "3        0.725034         1.100847  \n",
       "4       -1.792070        -0.396943  "
      ]
     },
     "execution_count": 50,
     "metadata": {},
     "output_type": "execute_result"
    }
   ],
   "source": [
    "#Standardized test data\n",
    "X_test = pd.DataFrame(X_test, columns=X.columns)\n",
    "X_test.head()"
   ]
  },
  {
   "cell_type": "markdown",
   "id": "d3b3290d",
   "metadata": {},
   "source": [
    "### Model Training"
   ]
  },
  {
   "cell_type": "code",
   "execution_count": 51,
   "id": "011fe475",
   "metadata": {},
   "outputs": [],
   "source": [
    "lr = LinearRegression()"
   ]
  },
  {
   "cell_type": "code",
   "execution_count": 52,
   "id": "e0b5fa5b",
   "metadata": {},
   "outputs": [
    {
     "data": {
      "text/plain": [
       "LinearRegression()"
      ]
     },
     "execution_count": 52,
     "metadata": {},
     "output_type": "execute_result"
    }
   ],
   "source": [
    "lr.fit(X_train, y_train)"
   ]
  },
  {
   "cell_type": "code",
   "execution_count": 53,
   "id": "0b8b26c9",
   "metadata": {},
   "outputs": [
    {
     "data": {
      "text/plain": [
       "0.9988591173786171"
      ]
     },
     "execution_count": 53,
     "metadata": {},
     "output_type": "execute_result"
    }
   ],
   "source": [
    "lr.score(X_test, y_test)"
   ]
  },
  {
   "cell_type": "markdown",
   "id": "486c05e0",
   "metadata": {},
   "source": [
    "# Here we are getting very high value for RSquared because the 'avg_rating_recent' feature is identical to the O/p feature 'rating' and hence helps the model to train better\n",
    "But if we drop this feature 'avg_rating_recent', our RSquared reduces dramatically\n"
   ]
  },
  {
   "cell_type": "code",
   "execution_count": 55,
   "id": "371c1587",
   "metadata": {},
   "outputs": [
    {
     "ename": "ValueError",
     "evalue": "y_true and y_pred have different number of output (12!=1)",
     "output_type": "error",
     "traceback": [
      "\u001b[1;31m---------------------------------------------------------------------------\u001b[0m",
      "\u001b[1;31mValueError\u001b[0m                                Traceback (most recent call last)",
      "\u001b[1;32m~\\AppData\\Local\\Temp\\ipykernel_12000\\2051556674.py\u001b[0m in \u001b[0;36m<module>\u001b[1;34m\u001b[0m\n\u001b[1;32m----> 1\u001b[1;33m \u001b[0mmse\u001b[0m \u001b[1;33m=\u001b[0m \u001b[0mmean_squared_error\u001b[0m\u001b[1;33m(\u001b[0m\u001b[0mX_test\u001b[0m\u001b[1;33m,\u001b[0m \u001b[0my_test\u001b[0m\u001b[1;33m)\u001b[0m\u001b[1;33m\u001b[0m\u001b[1;33m\u001b[0m\u001b[0m\n\u001b[0m\u001b[0;32m      2\u001b[0m \u001b[1;31m#print(mse)\u001b[0m\u001b[1;33m\u001b[0m\u001b[1;33m\u001b[0m\u001b[1;33m\u001b[0m\u001b[0m\n",
      "\u001b[1;32m~\\Anaconda3\\lib\\site-packages\\sklearn\\metrics\\_regression.py\u001b[0m in \u001b[0;36mmean_squared_error\u001b[1;34m(y_true, y_pred, sample_weight, multioutput, squared)\u001b[0m\n\u001b[0;32m    437\u001b[0m     \"\"\"\n\u001b[0;32m    438\u001b[0m     y_type, y_true, y_pred, multioutput = _check_reg_targets(\n\u001b[1;32m--> 439\u001b[1;33m         \u001b[0my_true\u001b[0m\u001b[1;33m,\u001b[0m \u001b[0my_pred\u001b[0m\u001b[1;33m,\u001b[0m \u001b[0mmultioutput\u001b[0m\u001b[1;33m\u001b[0m\u001b[1;33m\u001b[0m\u001b[0m\n\u001b[0m\u001b[0;32m    440\u001b[0m     )\n\u001b[0;32m    441\u001b[0m     \u001b[0mcheck_consistent_length\u001b[0m\u001b[1;33m(\u001b[0m\u001b[0my_true\u001b[0m\u001b[1;33m,\u001b[0m \u001b[0my_pred\u001b[0m\u001b[1;33m,\u001b[0m \u001b[0msample_weight\u001b[0m\u001b[1;33m)\u001b[0m\u001b[1;33m\u001b[0m\u001b[1;33m\u001b[0m\u001b[0m\n",
      "\u001b[1;32m~\\Anaconda3\\lib\\site-packages\\sklearn\\metrics\\_regression.py\u001b[0m in \u001b[0;36m_check_reg_targets\u001b[1;34m(y_true, y_pred, multioutput, dtype)\u001b[0m\n\u001b[0;32m    105\u001b[0m         raise ValueError(\n\u001b[0;32m    106\u001b[0m             \"y_true and y_pred have different number of output ({0}!={1})\".format(\n\u001b[1;32m--> 107\u001b[1;33m                 \u001b[0my_true\u001b[0m\u001b[1;33m.\u001b[0m\u001b[0mshape\u001b[0m\u001b[1;33m[\u001b[0m\u001b[1;36m1\u001b[0m\u001b[1;33m]\u001b[0m\u001b[1;33m,\u001b[0m \u001b[0my_pred\u001b[0m\u001b[1;33m.\u001b[0m\u001b[0mshape\u001b[0m\u001b[1;33m[\u001b[0m\u001b[1;36m1\u001b[0m\u001b[1;33m]\u001b[0m\u001b[1;33m\u001b[0m\u001b[1;33m\u001b[0m\u001b[0m\n\u001b[0m\u001b[0;32m    108\u001b[0m             )\n\u001b[0;32m    109\u001b[0m         )\n",
      "\u001b[1;31mValueError\u001b[0m: y_true and y_pred have different number of output (12!=1)"
     ]
    }
   ],
   "source": [
    "mse = mean_squared_error(X_test, y_test)\n",
    "#print(mse)"
   ]
  },
  {
   "cell_type": "code",
   "execution_count": null,
   "id": "8304a618",
   "metadata": {},
   "outputs": [],
   "source": []
  }
 ],
 "metadata": {
  "kernelspec": {
   "display_name": "Python 3 (ipykernel)",
   "language": "python",
   "name": "python3"
  },
  "language_info": {
   "codemirror_mode": {
    "name": "ipython",
    "version": 3
   },
   "file_extension": ".py",
   "mimetype": "text/x-python",
   "name": "python",
   "nbconvert_exporter": "python",
   "pygments_lexer": "ipython3",
   "version": "3.7.3"
  }
 },
 "nbformat": 4,
 "nbformat_minor": 5
}
